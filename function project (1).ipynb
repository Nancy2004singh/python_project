{
 "cells": [
  {
   "cell_type": "code",
   "execution_count": null,
   "id": "6e408155",
   "metadata": {},
   "outputs": [],
   "source": [
    "# square of the numbers in the list return squared numbers in the list"
   ]
  },
  {
   "cell_type": "code",
   "execution_count": 7,
   "id": "a8aef2ef",
   "metadata": {},
   "outputs": [],
   "source": [
    "def lst_sqr():\n",
    "    lst=list(map(int,input(\"Enter the number\").split(\" \")))\n",
    "    lst1=[]\n",
    "    for i in lst:\n",
    "        lst1.append(i**2)\n",
    "        \n",
    "    return lst1    "
   ]
  },
  {
   "cell_type": "code",
   "execution_count": 8,
   "id": "f5c83b79",
   "metadata": {},
   "outputs": [
    {
     "name": "stdout",
     "output_type": "stream",
     "text": [
      "Enter the number1 2 3 4 5\n"
     ]
    },
    {
     "data": {
      "text/plain": [
       "[1, 4, 9, 16, 25]"
      ]
     },
     "execution_count": 8,
     "metadata": {},
     "output_type": "execute_result"
    }
   ],
   "source": [
    "lst_sqr()"
   ]
  },
  {
   "cell_type": "code",
   "execution_count": null,
   "id": "495ce495",
   "metadata": {},
   "outputs": [],
   "source": [
    "#Find the highest value among 3 numbers passed as argument\n"
   ]
  },
  {
   "cell_type": "code",
   "execution_count": 1,
   "id": "c581369c",
   "metadata": {},
   "outputs": [],
   "source": [
    "def ap(a,b,c):\n",
    "    if a<b>c:\n",
    "        print(b)\n",
    "    elif b<a>c:\n",
    "        print(a)\n",
    "    else:\n",
    "        print(c)\n",
    "    "
   ]
  },
  {
   "cell_type": "code",
   "execution_count": 2,
   "id": "307718fb",
   "metadata": {},
   "outputs": [
    {
     "name": "stdout",
     "output_type": "stream",
     "text": [
      "15\n"
     ]
    }
   ],
   "source": [
    "ap(10,15,11)"
   ]
  },
  {
   "cell_type": "code",
   "execution_count": 1,
   "id": "7fc70a46",
   "metadata": {},
   "outputs": [],
   "source": [
    "# write a function to display of table of given number"
   ]
  },
  {
   "cell_type": "code",
   "execution_count": 1,
   "id": "e98a5f39",
   "metadata": {},
   "outputs": [],
   "source": [
    "def tab():\n",
    "    n=int(input(\"Enter the number\"))\n",
    "    for i in range(1,11):\n",
    "        print(f\"{n} x {i} = {n*i}\")\n",
    "        "
   ]
  },
  {
   "cell_type": "code",
   "execution_count": 2,
   "id": "20835609",
   "metadata": {},
   "outputs": [
    {
     "name": "stdout",
     "output_type": "stream",
     "text": [
      "Enter the number10\n",
      "10 x 1 = 10\n",
      "10 x 2 = 20\n",
      "10 x 3 = 30\n",
      "10 x 4 = 40\n",
      "10 x 5 = 50\n",
      "10 x 6 = 60\n",
      "10 x 7 = 70\n",
      "10 x 8 = 80\n",
      "10 x 9 = 90\n",
      "10 x 10 = 100\n"
     ]
    }
   ],
   "source": [
    "tab()"
   ]
  },
  {
   "cell_type": "code",
   "execution_count": null,
   "id": "adcb76e3",
   "metadata": {},
   "outputs": [],
   "source": [
    "# write a function called unique_elements that takes two lists as input and returns new list containing only the unique \n",
    "# elements present in both lists.."
   ]
  },
  {
   "cell_type": "code",
   "execution_count": 22,
   "id": "84831844",
   "metadata": {},
   "outputs": [],
   "source": [
    "s=[\"summer\",\"winter\",\"spring\"]\n",
    "s1=[\"summer\",\"moon\",\"stars\",\"spring\"]"
   ]
  },
  {
   "cell_type": "code",
   "execution_count": 23,
   "id": "2f6c4fe8",
   "metadata": {},
   "outputs": [],
   "source": [
    "def unique_elements(a,b):\n",
    "    c=set(a)\n",
    "    d=set(b)\n",
    "    e=c.symmetric_difference(d)\n",
    "    return list(e)\n",
    "    \n",
    "    \n",
    "    "
   ]
  },
  {
   "cell_type": "code",
   "execution_count": 24,
   "id": "219c08cc",
   "metadata": {},
   "outputs": [
    {
     "data": {
      "text/plain": [
       "['winter', 'stars', 'moon']"
      ]
     },
     "execution_count": 24,
     "metadata": {},
     "output_type": "execute_result"
    }
   ],
   "source": [
    "unique_elements(s,s1)"
   ]
  },
  {
   "cell_type": "code",
   "execution_count": null,
   "id": "3e98ec71",
   "metadata": {},
   "outputs": [],
   "source": []
  },
  {
   "cell_type": "code",
   "execution_count": null,
   "id": "6752d30a",
   "metadata": {},
   "outputs": [],
   "source": []
  }
 ],
 "metadata": {
  "kernelspec": {
   "display_name": "Python 3 (ipykernel)",
   "language": "python",
   "name": "python3"
  },
  "language_info": {
   "codemirror_mode": {
    "name": "ipython",
    "version": 3
   },
   "file_extension": ".py",
   "mimetype": "text/x-python",
   "name": "python",
   "nbconvert_exporter": "python",
   "pygments_lexer": "ipython3",
   "version": "3.11.5"
  }
 },
 "nbformat": 4,
 "nbformat_minor": 5
}
