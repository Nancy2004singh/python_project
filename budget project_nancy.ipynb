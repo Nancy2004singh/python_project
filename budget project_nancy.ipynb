{
 "cells": [
  {
   "cell_type": "code",
   "execution_count": 71,
   "id": "17b146aa",
   "metadata": {},
   "outputs": [
    {
     "name": "stdout",
     "output_type": "stream",
     "text": [
      "Enter your monthly budget: 30000\n"
     ]
    }
   ],
   "source": [
    "class budget():\n",
    "    amount=int(input(\"Enter your monthly budget: \"))\n",
    "    \n",
    "    def __init__(self):\n",
    "        self.category=''\n",
    "        self.cat_amt=0\n",
    "        self.database={}\n",
    "        \n",
    "    def deposite(self):\n",
    "        self.category=input(\"Enter the category name:\")\n",
    "        self.cat_amt=int(input(\"Enter the category amount :\"))\n",
    "        while True:\n",
    "            if self.cat_amt>=self.amount:\n",
    "                print(\"you do not have enough money to deposite..\")\n",
    "                self.cat_amt=int(input(\"Enter the correct amount: \"))\n",
    "            elif self.cat_amt<self.amount:\n",
    "                self.amount-=self.cat_amt\n",
    "                self.database[(self.category)]={}\n",
    "                self.database[self.category]={('balance'):self.cat_amt,('transaction'):{}}\n",
    "                print(self.database)\n",
    "                break\n",
    "                \n",
    "                \n",
    "    def transactions(self):\n",
    "        self.cat=input(\"Enter the category name: \")\n",
    "        while True:\n",
    "            if self.cat not in self.database:\n",
    "                print(f\"{self.cat} category is not present in your monthly budget.. \")\n",
    "                self.cat=input(\"Enter the correct category name : \")\n",
    "            elif self.cat in self.database:\n",
    "                self.item=input(\"Enter the item name which you bought: \")\n",
    "                self.item_cost=int(input(\"Enter the item cost: Rs \"))\n",
    "                if self.item_cost<self.cat_amt:\n",
    "                    self.database[self.cat]['transaction'][(self.item)]=self.item_cost\n",
    "                    self.database[self.cat]['balance']-=self.item_cost\n",
    "                    print(\"---------budget-----------\")\n",
    "                    print('')\n",
    "                    print(self.database)\n",
    "                    break\n",
    "                else:\n",
    "                    print(\"you do not have enough category amount\")    \n",
    "\n",
    "    def transfer(self):\n",
    "        self.cate=input(\"Enter the category name out of which you want to transfer amount to another category: \")\n",
    "        while True:\n",
    "            if self.cate not in self.database:\n",
    "                print(\"you enter wrong category name .\")\n",
    "                self.cate=input(\"Enter the correct category name: \")\n",
    "            elif self.cate in self.database:\n",
    "                self.transfer_cat=input(\"Enter the transfer category name :\")\n",
    "                self.amt=int(input(\"Enter the amount : \"))\n",
    "                self.database[self.cate]['balance']-=self.amt\n",
    "                self.database[self.transfer_cat]['balance']+=self.amt\n",
    "                print(\"   Transfer successfully !  \")\n",
    "                print(self.database)          \n",
    "                break            "
   ]
  },
  {
   "cell_type": "code",
   "execution_count": 72,
   "id": "2917f619",
   "metadata": {},
   "outputs": [],
   "source": [
    "a=budget()"
   ]
  },
  {
   "cell_type": "code",
   "execution_count": 73,
   "id": "978aa171",
   "metadata": {},
   "outputs": [
    {
     "data": {
      "text/plain": [
       "30000"
      ]
     },
     "execution_count": 73,
     "metadata": {},
     "output_type": "execute_result"
    }
   ],
   "source": [
    "a.amount"
   ]
  },
  {
   "cell_type": "code",
   "execution_count": 74,
   "id": "1889f65a",
   "metadata": {},
   "outputs": [
    {
     "data": {
      "text/plain": [
       "0"
      ]
     },
     "execution_count": 74,
     "metadata": {},
     "output_type": "execute_result"
    }
   ],
   "source": [
    "a.cat_amt"
   ]
  },
  {
   "cell_type": "code",
   "execution_count": 77,
   "id": "80fe40a7",
   "metadata": {},
   "outputs": [
    {
     "name": "stdout",
     "output_type": "stream",
     "text": [
      "Enter the category name:entertainment\n",
      "Enter the category amount :5000\n",
      "{'food': {'balance': 7000, 'transaction': {}}, 'clothing': {'balance': 5000, 'transaction': {}}, 'entertainment': {'balance': 5000, 'transaction': {}}}\n"
     ]
    }
   ],
   "source": [
    " a.deposite()"
   ]
  },
  {
   "cell_type": "code",
   "execution_count": 78,
   "id": "8f195f27",
   "metadata": {},
   "outputs": [
    {
     "data": {
      "text/plain": [
       "{'food': {'balance': 7000, 'transaction': {}},\n",
       " 'clothing': {'balance': 5000, 'transaction': {}},\n",
       " 'entertainment': {'balance': 5000, 'transaction': {}}}"
      ]
     },
     "execution_count": 78,
     "metadata": {},
     "output_type": "execute_result"
    }
   ],
   "source": [
    "a.database"
   ]
  },
  {
   "cell_type": "code",
   "execution_count": 79,
   "id": "b9587896",
   "metadata": {},
   "outputs": [
    {
     "data": {
      "text/plain": [
       "13000"
      ]
     },
     "execution_count": 79,
     "metadata": {},
     "output_type": "execute_result"
    }
   ],
   "source": [
    "a.amount"
   ]
  },
  {
   "cell_type": "code",
   "execution_count": 83,
   "id": "7265e51a",
   "metadata": {},
   "outputs": [
    {
     "name": "stdout",
     "output_type": "stream",
     "text": [
      "Enter the category name: entertainment\n",
      "Enter the item name which you bought: trip\n",
      "Enter the item cost: Rs 2000\n",
      "---------budget-----------\n",
      "\n",
      "{'food': {'balance': 5900, 'transaction': {'fruits': 500, 'veg': 600}}, 'clothing': {'balance': 4000, 'transaction': {'shirt': 1000}}, 'entertainment': {'balance': 3000, 'transaction': {'trip': 2000}}}\n"
     ]
    }
   ],
   "source": [
    "a.transactions()"
   ]
  },
  {
   "cell_type": "code",
   "execution_count": 84,
   "id": "b35af809",
   "metadata": {},
   "outputs": [
    {
     "data": {
      "text/plain": [
       "{'food': {'balance': 5900, 'transaction': {'fruits': 500, 'veg': 600}},\n",
       " 'clothing': {'balance': 4000, 'transaction': {'shirt': 1000}},\n",
       " 'entertainment': {'balance': 3000, 'transaction': {'trip': 2000}}}"
      ]
     },
     "execution_count": 84,
     "metadata": {},
     "output_type": "execute_result"
    }
   ],
   "source": [
    "a.database"
   ]
  },
  {
   "cell_type": "code",
   "execution_count": 85,
   "id": "03f8cb98",
   "metadata": {},
   "outputs": [
    {
     "name": "stdout",
     "output_type": "stream",
     "text": [
      "Enter the category name out of which you want to transfer amount to another category: food\n",
      "Enter the transfer category name :clothing\n",
      "Enter the amount : 1000\n",
      "{'food': {'balance': 4900, 'transaction': {'fruits': 500, 'veg': 600}}, 'clothing': {'balance': 5000, 'transaction': {'shirt': 1000}}, 'entertainment': {'balance': 3000, 'transaction': {'trip': 2000}}}\n"
     ]
    }
   ],
   "source": [
    "a.transfer()"
   ]
  },
  {
   "cell_type": "code",
   "execution_count": null,
   "id": "1cce10cb",
   "metadata": {},
   "outputs": [],
   "source": []
  },
  {
   "cell_type": "code",
   "execution_count": null,
   "id": "ece04790",
   "metadata": {},
   "outputs": [],
   "source": []
  },
  {
   "cell_type": "code",
   "execution_count": null,
   "id": "c1af1ea6",
   "metadata": {},
   "outputs": [],
   "source": []
  }
 ],
 "metadata": {
  "kernelspec": {
   "display_name": "Python 3 (ipykernel)",
   "language": "python",
   "name": "python3"
  },
  "language_info": {
   "codemirror_mode": {
    "name": "ipython",
    "version": 3
   },
   "file_extension": ".py",
   "mimetype": "text/x-python",
   "name": "python",
   "nbconvert_exporter": "python",
   "pygments_lexer": "ipython3",
   "version": "3.11.5"
  }
 },
 "nbformat": 4,
 "nbformat_minor": 5
}
