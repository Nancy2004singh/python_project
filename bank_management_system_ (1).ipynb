{
 "cells": [
  {
   "cell_type": "markdown",
   "id": "9bca576b",
   "metadata": {},
   "source": [
    "# Assignment"
   ]
  },
  {
   "cell_type": "code",
   "execution_count": 1,
   "id": "96c81634",
   "metadata": {},
   "outputs": [],
   "source": [
    "import sys\n",
    "def sub_service(m,ac):\n",
    "    amt = data[ac]['Balance']\n",
    "    if m ==1:\n",
    "        print(\"Available Balance = Rs \",amt)\n",
    "    if m==2:\n",
    "        dep= int(input(\"Enter the amount to deposit = Rs \"))\n",
    "        amt += dep\n",
    "        print(\"Deposite successful \\n Available Balance = Rs \",amt,\"\\n------------------------------------------------------------------\")\n",
    "        data[ac]['Balance']= amt\n",
    "   \n",
    "    if m==3:\n",
    "        withdraw(amt,ac)\n",
    "   \n",
    "    if m>3:\n",
    "        print(\"Please enter the valid option\")\n",
    "        op2=int(input(\"Enter the choice : \"))\n",
    "        sub_service(op2,ac)\n",
    "        \n",
    "def withdraw(amt,ac):\n",
    "    wid= int(input(\"Enter the amount withdraw = Rs \"))\n",
    "    if wid>amt:\n",
    "        print(f\"You do not have enough balance to withdraw,your current balance is {amt}\")\n",
    "        withdraw(amt,ac)\n",
    "    else:    \n",
    "        amt -= wid\n",
    "        print(\"Withdraw successful \\n Available Balance = Rs \",amt,\"\\n------------------------------------------------------------------\")\n",
    "        data[ac]['Balance']= amt\n",
    "        \n",
    "        \n",
    "def existing_customer():\n",
    "    ac=int(input(\"Account_no. :\"))\n",
    "    if ac in data.keys():\n",
    "        print(f\"Record found. Customer_name : {data[ac]['Name']}\")\n",
    "        print(\"please choose Any one option .\\n1 Check Balance .\\n2 Deposit.\\n3 Withdraw\")\n",
    "        \n",
    "        op1=int(input(\"Enter the choice : \"))\n",
    "        sub_service(op1,ac)\n",
    "    else:\n",
    "        print(\"Record not found\")\n",
    "        existing_customer()\n",
    "        \n",
    "def cl(f):\n",
    "    global data \n",
    "    if f==1:\n",
    "        print(\"Enter the below details about new customer\")\n",
    "\n",
    "        c=int(input(\"Account no. :\"))\n",
    "        t=input(\"customer_name :\")\n",
    "        b=input(\"Address :\")\n",
    "            \n",
    "        d=input(\"Account_type :\")\n",
    "        e=int(input(\"deposite ammount :\"))\n",
    "        data[c]={'Name':t,\"Address\":b,\"Ac_type\":d,\"Balance\":e}\n",
    "        print(\"Account has created\")  \n",
    "        print(data)\n",
    "        we=input(\"More account create ?(Y/N) \")\n",
    "        if we.upper()=='Y':\n",
    "            cl(f)\n",
    "        else:    \n",
    "            main() \n",
    "            \n",
    "    elif f==2:   \n",
    "            existing_customer()\n",
    "   \n",
    "          \n",
    "                    \n",
    "            "
   ]
  },
  {
   "cell_type": "code",
   "execution_count": 2,
   "id": "0c61d12e",
   "metadata": {},
   "outputs": [],
   "source": [
    "def main():\n",
    "    print(\"-------------------------------------------\")\n",
    "    print(\"          BANK MANAGEMENT SYSTEM           \")\n",
    "    print(\"-------------------------------------------\")\n",
    "    print(\"please choose Any one option .\\n1 New customer .\\n2 Existing Customer Details.\\n3 Exit\")\n",
    "    a = int(input(\"Enter the choise from 1 to 3: \"))\n",
    "    cl(a)\n",
    "    if a!=3:\n",
    "        eo=input(\"Do you want to continue? (Y/N)\").upper()\n",
    "        if eo=='N':\n",
    "            exit()\n",
    "        else:\n",
    "            main()\n",
    "        \n",
    "        "
   ]
  },
  {
   "cell_type": "code",
   "execution_count": null,
   "id": "788a8d18",
   "metadata": {},
   "outputs": [
    {
     "name": "stdout",
     "output_type": "stream",
     "text": [
      "-------------------------------------------\n",
      "          BANK MANAGEMENT SYSTEM           \n",
      "-------------------------------------------\n",
      "please choose Any one option .\n",
      "1 New customer .\n",
      "2 Existing Customer Details.\n",
      "3 Exit\n",
      "Enter the choise from 1 to 3: 1\n",
      "Enter the below details about new customer\n",
      "Account no. :12\n",
      "customer_name :nhg\n",
      "Address :oijh\n",
      "Account_type :234\n",
      "deposite ammount :12\n",
      "Account has created\n",
      "{12: {'Name': 'nhg', 'Address': 'oijh', 'Ac_type': '234', 'Balance': 12}}\n",
      "More account create ?(Y/N) n\n",
      "-------------------------------------------\n",
      "          BANK MANAGEMENT SYSTEM           \n",
      "-------------------------------------------\n",
      "please choose Any one option .\n",
      "1 New customer .\n",
      "2 Existing Customer Details.\n",
      "3 Exit\n",
      "Enter the choise from 1 to 3: 2\n",
      "Account_no. :12\n",
      "Record found. Customer_name : nhg\n",
      "please choose Any one option .\n",
      "1 Check Balance .\n",
      "2 Deposit.\n",
      "3 Withdraw\n"
     ]
    }
   ],
   "source": [
    "data = {}\n",
    "main()"
   ]
  },
  {
   "cell_type": "code",
   "execution_count": null,
   "id": "8b9d608c",
   "metadata": {},
   "outputs": [],
   "source": []
  },
  {
   "cell_type": "code",
   "execution_count": null,
   "id": "e7f8e853",
   "metadata": {},
   "outputs": [],
   "source": []
  }
 ],
 "metadata": {
  "kernelspec": {
   "display_name": "Python 3 (ipykernel)",
   "language": "python",
   "name": "python3"
  },
  "language_info": {
   "codemirror_mode": {
    "name": "ipython",
    "version": 3
   },
   "file_extension": ".py",
   "mimetype": "text/x-python",
   "name": "python",
   "nbconvert_exporter": "python",
   "pygments_lexer": "ipython3",
   "version": "3.11.5"
  }
 },
 "nbformat": 4,
 "nbformat_minor": 5
}
