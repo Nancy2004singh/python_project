{
 "cells": [
  {
   "cell_type": "markdown",
   "id": "7668e1c9",
   "metadata": {},
   "source": [
    "# Guessing game project"
   ]
  },
  {
   "cell_type": "code",
   "execution_count": 1,
   "id": "13ece01b",
   "metadata": {},
   "outputs": [],
   "source": [
    "import random"
   ]
  },
  {
   "cell_type": "code",
   "execution_count": 2,
   "id": "044b9d09",
   "metadata": {
    "scrolled": true
   },
   "outputs": [
    {
     "name": "stdout",
     "output_type": "stream",
     "text": [
      "you have only two chances\n",
      "Enter the guessing number1\n",
      "Enter the guessing number4\n",
      "computer guessing number was 9\n"
     ]
    }
   ],
   "source": [
    "b=random.randint(1,10)\n",
    "print(\"you have only two chances\")\n",
    "for i in range(2,0,-1):\n",
    "    a=int(input(\"Enter the guessing number\"))\n",
    "    if a==b:\n",
    "        print(\"congratulation your guessing number is correct\")\n",
    "        break\n",
    "    if a!=b:\n",
    "        if a>b:\n",
    "            print(\"your guessing number is too high\")\n",
    "        elif a>b:\n",
    "            print(\"your guessing number is too low\")  \n",
    "        elif i==0:\n",
    "            print(\"sorry! you lose\")\n",
    "                   \n",
    "print(f\"computer guessing number was {b}\")\n"
   ]
  },
  {
   "cell_type": "markdown",
   "id": "43d1c740",
   "metadata": {},
   "source": [
    "# rock paper game"
   ]
  },
  {
   "cell_type": "code",
   "execution_count": null,
   "id": "20a77cf9",
   "metadata": {},
   "outputs": [],
   "source": [
    "import random\n",
    "def checking(n):\n",
    "    if n not in (lst):\n",
    "        print(\"invalid\")\n",
    "        b='no'\n",
    "    else:\n",
    "        b='yes'\n",
    "    return b"
   ]
  },
  {
   "cell_type": "code",
   "execution_count": 3,
   "id": "97c32eba",
   "metadata": {},
   "outputs": [
    {
     "name": "stdout",
     "output_type": "stream",
     "text": [
      "*************************\n",
      "ROCK PAPER SCICCORS GAME\n",
      "*************************\n",
      "******************Round1***************\n",
      "pick one paper\n",
      "Computer chose rock\n",
      "congratulations!you win\n",
      "******************Round2***************\n",
      "pick one rock\n",
      "Computer chose rock\n",
      "Its tie no one is win\n",
      "******************Round3***************\n",
      "pick one sciccors\n",
      "Computer chose rock\n",
      " computer is winner \n"
     ]
    }
   ],
   "source": [
    "print(\"*************************\")\n",
    "print(\"ROCK PAPER SCICCORS GAME\")\n",
    "print(\"*************************\")\n",
    "lst=[\"rock\",\"paper\",\"sciccors\"]\n",
    "player1 = random.choice(lst)\n",
    "rounds=3\n",
    "for i in range(rounds):\n",
    "    print(f\"******************Round{i+1}***************\")\n",
    "    player2 = input(\"pick one \")      \n",
    "    print(f\"Computer chose {player1}\")\n",
    "     \n",
    "    \n",
    "    if player1 == player2:\n",
    "        print(\"Its tie no one is win\")\n",
    "        \n",
    "    if ((player1== 'rock' and player2== 'sciccors') or (player1== 'paper' and player2=='rock') \n",
    "        or (player1== 'sciccors' and player2== 'paper')):\n",
    "        print(\" computer is winner \")\n",
    "        \n",
    "    elif ((player2== 'rock' and player1== 'sciccors') or (player2== 'paper' and player1=='rock') \n",
    "        or (player2== 'sciccors' and player1== 'paper')):\n",
    "        print(\"congratulations!you win\")\n",
    "    \n",
    "        \n",
    "            "
   ]
  },
  {
   "cell_type": "code",
   "execution_count": null,
   "id": "4ca84b14",
   "metadata": {},
   "outputs": [],
   "source": []
  },
  {
   "cell_type": "code",
   "execution_count": null,
   "id": "5f7da8a9",
   "metadata": {},
   "outputs": [],
   "source": []
  },
  {
   "cell_type": "code",
   "execution_count": null,
   "id": "376e7d79",
   "metadata": {},
   "outputs": [],
   "source": []
  },
  {
   "cell_type": "code",
   "execution_count": null,
   "id": "c032a3a1",
   "metadata": {},
   "outputs": [],
   "source": []
  }
 ],
 "metadata": {
  "kernelspec": {
   "display_name": "Python 3 (ipykernel)",
   "language": "python",
   "name": "python3"
  },
  "language_info": {
   "codemirror_mode": {
    "name": "ipython",
    "version": 3
   },
   "file_extension": ".py",
   "mimetype": "text/x-python",
   "name": "python",
   "nbconvert_exporter": "python",
   "pygments_lexer": "ipython3",
   "version": "3.11.5"
  }
 },
 "nbformat": 4,
 "nbformat_minor": 5
}
